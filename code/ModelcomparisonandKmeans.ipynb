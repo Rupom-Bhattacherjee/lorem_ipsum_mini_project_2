{
 "cells": [
  {
   "cell_type": "code",
   "execution_count": 3,
   "id": "2c08a464",
   "metadata": {},
   "outputs": [
    {
     "name": "stdout",
     "output_type": "stream",
     "text": [
      "username: aghar\n",
      "Today's date: 2022-11-16\n"
     ]
    }
   ],
   "source": [
    "import os\n",
    " \n",
    "print(\"username:\" , os.getlogin())\n",
    "from datetime import date\n",
    "\n",
    "today = date.today()\n",
    "print(\"Today's date:\", today)\n",
    "import findspark\n",
    "findspark.init()"
   ]
  },
  {
   "cell_type": "code",
   "execution_count": 4,
   "id": "daf56730",
   "metadata": {},
   "outputs": [],
   "source": [
    "from pyspark.sql import SparkSession\n",
    "from pyspark.conf import SparkConf\n",
    "from pyspark.sql.types import * \n",
    "import pyspark.sql.functions as F\n",
    "from pyspark.sql.functions import col, asc,desc\n",
    "import matplotlib.pyplot as plt\n",
    "import numpy as np\n",
    "import seaborn as sns\n",
    "from pyspark.sql import SQLContext\n",
    "from pyspark.mllib.stat import Statistics\n",
    "import pandas as pd\n",
    "from pyspark.sql.functions import udf\n",
    "from pyspark.ml.feature import OneHotEncoder, StringIndexer, VectorAssembler,StandardScaler\n",
    "from pyspark.ml import Pipeline\n",
    "from sklearn.metrics import confusion_matrix\n",
    "\n",
    "spark=SparkSession.builder \\\n",
    ".master (\"local[*]\")\\\n",
    ".appName(\"part3\")\\\n",
    ".getOrCreate()\n",
    "\n",
    "import numpy as np"
   ]
  },
  {
   "cell_type": "code",
   "execution_count": 5,
   "id": "693420d7",
   "metadata": {},
   "outputs": [
    {
     "name": "stderr",
     "output_type": "stream",
     "text": [
      "c:\\Users\\aghar\\AppData\\Local\\Programs\\Python\\Python310\\lib\\site-packages\\pyspark\\sql\\context.py:112: FutureWarning: Deprecated in 3.0.0. Use SparkSession.builder.getOrCreate() instead.\n",
      "  warnings.warn(\n"
     ]
    }
   ],
   "source": [
    "sc=spark.sparkContext\n",
    "sqlContext=SQLContext(sc)"
   ]
  },
  {
   "cell_type": "code",
   "execution_count": 6,
   "id": "c1cb852c",
   "metadata": {},
   "outputs": [
    {
     "data": {
      "text/plain": [
       "'c:\\\\Users\\\\aghar\\\\Downloads'"
      ]
     },
     "execution_count": 6,
     "metadata": {},
     "output_type": "execute_result"
    }
   ],
   "source": [
    "import os\n",
    "os.getcwd()"
   ]
  },
  {
   "cell_type": "code",
   "execution_count": 7,
   "id": "cb613394",
   "metadata": {},
   "outputs": [
    {
     "name": "stdout",
     "output_type": "stream",
     "text": [
      "3.10.8\n"
     ]
    }
   ],
   "source": [
    "from platform import python_version\n",
    "\n",
    "print(python_version())"
   ]
  },
  {
   "cell_type": "code",
   "execution_count": 8,
   "id": "4f99b99d",
   "metadata": {},
   "outputs": [
    {
     "data": {
      "text/plain": [
       "'3.3.1'"
      ]
     },
     "execution_count": 8,
     "metadata": {},
     "output_type": "execute_result"
    }
   ],
   "source": [
    "sc.version #spark version"
   ]
  },
  {
   "cell_type": "code",
   "execution_count": 9,
   "id": "01439a4c",
   "metadata": {},
   "outputs": [
    {
     "name": "stdout",
     "output_type": "stream",
     "text": [
      "There are 58498 rows 64 columns in the data.\n",
      "There are 8238 rows 64 columns in the data.\n"
     ]
    }
   ],
   "source": [
    "train_df=spark.read \\\n",
    " .option(\"header\",\"True\")\\\n",
    " .option(\"inferSchema\",\"True\")\\\n",
    " .csv(\"train_smote_pca_scaled_99.csv\")\n",
    "print(\"There are\",train_df.count(),\"rows\",len(train_df.columns),\n",
    "      \"columns\" ,\"in the data.\") \n",
    "test_df=spark.read \\\n",
    " .option(\"header\",\"True\")\\\n",
    " .option(\"inferSchema\",\"True\")\\\n",
    " .csv(\"test_pca_scaled_99.csv\")\n",
    "print(\"There are\",test_df.count(),\"rows\",len(test_df.columns),\n",
    "      \"columns\" ,\"in the data.\") "
   ]
  },
  {
   "cell_type": "code",
   "execution_count": 10,
   "id": "f145c86a",
   "metadata": {},
   "outputs": [],
   "source": [
    "cols=train_df.columns"
   ]
  },
  {
   "cell_type": "code",
   "execution_count": 11,
   "id": "58bcf0ed",
   "metadata": {},
   "outputs": [],
   "source": [
    "cols.remove('y_yes')"
   ]
  },
  {
   "cell_type": "code",
   "execution_count": 12,
   "id": "2856f4b7",
   "metadata": {},
   "outputs": [],
   "source": [
    "features=cols"
   ]
  },
  {
   "cell_type": "code",
   "execution_count": 13,
   "id": "05cdc63a",
   "metadata": {},
   "outputs": [],
   "source": [
    "dependentVariable = \"y_yes\"\n",
    "\n",
    "assemblerInputs = features\n",
    "assembler = VectorAssembler(inputCols=assemblerInputs, outputCol='vectorized_features', handleInvalid='skip')\n",
    "\n",
    "\n"
   ]
  },
  {
   "cell_type": "code",
   "execution_count": 14,
   "id": "79dd0f15",
   "metadata": {},
   "outputs": [],
   "source": [
    "stages=[]\n",
    "stages+=[assembler]"
   ]
  },
  {
   "cell_type": "code",
   "execution_count": 15,
   "id": "b34ad721",
   "metadata": {},
   "outputs": [],
   "source": [
    "pipeline = Pipeline(stages=stages)\n",
    "pipelinemodel = pipeline.fit(train_df)"
   ]
  },
  {
   "cell_type": "code",
   "execution_count": 16,
   "id": "d74c4769",
   "metadata": {},
   "outputs": [],
   "source": [
    "train_df= pipelinemodel.transform(train_df)"
   ]
  },
  {
   "cell_type": "code",
   "execution_count": 17,
   "id": "2a7cc13e",
   "metadata": {},
   "outputs": [],
   "source": [
    "pipeline = Pipeline(stages=stages)\n",
    "pipelinemodel = pipeline.fit(test_df)"
   ]
  },
  {
   "cell_type": "code",
   "execution_count": 18,
   "id": "509cf559",
   "metadata": {},
   "outputs": [],
   "source": [
    "test_df= pipelinemodel.transform(test_df)"
   ]
  },
  {
   "cell_type": "code",
   "execution_count": 71,
   "id": "f758a4e5",
   "metadata": {},
   "outputs": [],
   "source": [
    "from pyspark.ml.classification import FMClassifier\n",
    "#lr = LogisticRegression(featuresCol = 'vectorized_features', labelCol = 'y_yes', maxIter=5)\n",
    "#lr = RandomForestClassifier(numTrees=5,featuresCol = 'vectorized_features',labelCol=\"y_yes\", seed=42)\n",
    "#lr=GBTClassifier(maxIter=5, maxDepth=3, labelCol=\"y_yes\",featuresCol = 'vectorized_features', seed=42)\n",
    "#lr=DecisionTreeClassifier(maxDepth=3,labelCol=\"y_yes\",featuresCol = 'vectorized_features', seed=42)\n",
    "#lr= MultilayerPerceptronClassifier(layers=[2, 2, 2], labelCol=\"y_yes\",featuresCol = 'vectorized_features',seed=42)\n",
    "lr = FMClassifier(factorSize=2,labelCol=\"y_yes\",featuresCol = 'vectorized_features')"
   ]
  },
  {
   "cell_type": "code",
   "execution_count": 81,
   "id": "c71a26e1",
   "metadata": {},
   "outputs": [
    {
     "ename": "AttributeError",
     "evalue": "'function' object has no attribute 'fMeasureByThreshold'",
     "output_type": "error",
     "traceback": [
      "\u001b[1;31m---------------------------------------------------------------------------\u001b[0m",
      "\u001b[1;31mAttributeError\u001b[0m                            Traceback (most recent call last)",
      "Cell \u001b[1;32mIn [81], line 6\u001b[0m\n\u001b[0;32m      3\u001b[0m trainingSummary \u001b[39m=\u001b[39m lrModel\u001b[39m.\u001b[39msummary\n\u001b[0;32m      5\u001b[0m \u001b[39m# Set the model threshold to maximize F-Measure\u001b[39;00m\n\u001b[1;32m----> 6\u001b[0m fMeasure \u001b[39m=\u001b[39m trainingSummary\u001b[39m.\u001b[39;49mfMeasureByThreshold\n\u001b[0;32m      7\u001b[0m maxFMeasure \u001b[39m=\u001b[39m fMeasure\u001b[39m.\u001b[39mgroupBy()\u001b[39m.\u001b[39mmax(\u001b[39m'\u001b[39m\u001b[39mF-Measure\u001b[39m\u001b[39m'\u001b[39m)\u001b[39m.\u001b[39mselect(\u001b[39m'\u001b[39m\u001b[39mmax(F-Measure)\u001b[39m\u001b[39m'\u001b[39m)\u001b[39m.\u001b[39mhead()\n\u001b[0;32m      8\u001b[0m bestThreshold \u001b[39m=\u001b[39m fMeasure\u001b[39m.\u001b[39mwhere(fMeasure[\u001b[39m'\u001b[39m\u001b[39mF-Measure\u001b[39m\u001b[39m'\u001b[39m] \u001b[39m==\u001b[39m maxFMeasure[\u001b[39m'\u001b[39m\u001b[39mmax(F-Measure)\u001b[39m\u001b[39m'\u001b[39m]) \\\n\u001b[0;32m      9\u001b[0m     \u001b[39m.\u001b[39mselect(\u001b[39m'\u001b[39m\u001b[39mthreshold\u001b[39m\u001b[39m'\u001b[39m)\u001b[39m.\u001b[39mhead()[\u001b[39m'\u001b[39m\u001b[39mthreshold\u001b[39m\u001b[39m'\u001b[39m]\n",
      "\u001b[1;31mAttributeError\u001b[0m: 'function' object has no attribute 'fMeasureByThreshold'"
     ]
    }
   ],
   "source": [
    "lrModel = lr.fit(train_df)\n",
    "# training ROC for the model\n",
    "trainingSummary = lrModel.summary\n",
    "\n",
    "# Set the model threshold to maximize F-Measure\n",
    "fMeasure = trainingSummary.fMeasureByThreshold\n",
    "maxFMeasure = fMeasure.groupBy().max('F-Measure').select('max(F-Measure)').head()\n",
    "bestThreshold = fMeasure.where(fMeasure['F-Measure'] == maxFMeasure['max(F-Measure)']) \\\n",
    "    .select('threshold').head()['threshold']\n",
    "lrModel.setThresholds([bestThreshold,1-bestThreshold])"
   ]
  },
  {
   "cell_type": "code",
   "execution_count": 73,
   "id": "3b9c808c",
   "metadata": {},
   "outputs": [],
   "source": [
    "# confusion matrix\n",
    "class_names=[1.0,0.0]\n",
    "import itertools\n",
    "def plot_confusion_matrix(cm, classes,\n",
    "                          normalize=False,\n",
    "                          title='Confusion matrix',\n",
    "                          cmap=plt.cm.Blues):\n",
    "    \"\"\"\n",
    "    This function prints and plots the confusion matrix.\n",
    "    Normalization can be applied by setting `normalize=True`.\n",
    "    \"\"\"\n",
    "    if normalize:\n",
    "        cm = cm.astype('float') / cm.sum(axis=1)[:, np.newaxis]\n",
    "        print(\"Normalized confusion matrix\")\n",
    "    else:\n",
    "        print('Confusion matrix, without normalization')\n",
    "\n",
    "    print(cm)\n",
    "\n",
    "    plt.imshow(cm, interpolation='nearest', cmap=cmap)\n",
    "    plt.title(title)\n",
    "    plt.colorbar()\n",
    "    tick_marks = np.arange(len(classes))\n",
    "    plt.xticks(tick_marks, classes, rotation=45)\n",
    "    plt.yticks(tick_marks, classes)\n",
    "\n",
    "    fmt = '.2f' if normalize else 'd'\n",
    "    thresh = cm.max() / 2.\n",
    "    for i, j in itertools.product(range(cm.shape[0]), range(cm.shape[1])):\n",
    "        plt.text(j, i, format(cm[i, j], fmt),\n",
    "                 horizontalalignment=\"center\",\n",
    "                 color=\"white\" if cm[i, j] > thresh else \"black\")\n",
    "\n",
    "    plt.tight_layout()\n",
    "    plt.ylabel('True label')\n",
    "    plt.xlabel('Predicted label')"
   ]
  },
  {
   "cell_type": "code",
   "execution_count": 74,
   "id": "00ac7829",
   "metadata": {},
   "outputs": [
    {
     "name": "stdout",
     "output_type": "stream",
     "text": [
      "Confusion matrix, without normalization\n",
      "[[ 357  582]\n",
      " [ 174 7125]]\n"
     ]
    },
    {
     "data": {
      "image/png": "[encoded data removed]",
      "text/plain": [
       "<Figure size 640x480 with 2 Axes>"
      ]
     },
     "metadata": {},
     "output_type": "display_data"
    },
    {
     "name": "stdout",
     "output_type": "stream",
     "text": [
      "Accuracy :  0.9082301529497451\n"
     ]
    }
   ],
   "source": [
    "predictions = lrModel.transform(test_df)\n",
    "predictions=predictions.withColumnRenamed(\"y_yes\",\"label\")\n",
    "y_true = predictions.select(\"label\")\n",
    "y_true = y_true.toPandas()\n",
    "\n",
    "y_pred = predictions.select(\"prediction\")\n",
    "y_pred = y_pred.toPandas()\n",
    "\n",
    "cnf_matrix = confusion_matrix(y_true, y_pred,labels=class_names)\n",
    "#cnf_matrix\n",
    "plt.figure()\n",
    "plot_confusion_matrix(cnf_matrix, classes=class_names,\n",
    "                      title='Confusion matrix')\n",
    "plt.show()\n",
    "accuracy = predictions.filter(predictions.label == predictions.prediction).count() / float(predictions.count())\n",
    "print(\"Accuracy : \",accuracy)"
   ]
  },
  {
   "cell_type": "code",
   "execution_count": 82,
   "id": "060265b1",
   "metadata": {},
   "outputs": [
    {
     "data": {
      "text/plain": [
       "['pc1',\n",
       " 'pc2',\n",
       " 'pc3',\n",
       " 'pc4',\n",
       " 'pc5',\n",
       " 'pc6',\n",
       " 'pc7',\n",
       " 'pc8',\n",
       " 'pc9',\n",
       " 'pc10',\n",
       " 'job_admin',\n",
       " 'job_blue-collar',\n",
       " 'job_entrepreneur',\n",
       " 'job_housemaid',\n",
       " 'job_management',\n",
       " 'job_retired',\n",
       " 'job_self-employed',\n",
       " 'job_services',\n",
       " 'job_student',\n",
       " 'job_technician',\n",
       " 'job_unemployed',\n",
       " 'job_unknown',\n",
       " 'marital_divorced',\n",
       " 'marital_married',\n",
       " 'marital_single',\n",
       " 'marital_unknown',\n",
       " 'education_basic_4y',\n",
       " 'education_basic_6y',\n",
       " 'education_basic_9y',\n",
       " 'education_high_school',\n",
       " 'education_illiterate',\n",
       " 'education_professional_course',\n",
       " 'education_university_degree',\n",
       " 'education_unknown',\n",
       " 'default_no',\n",
       " 'default_unknown',\n",
       " 'default_yes',\n",
       " 'housing_no',\n",
       " 'housing_unknown',\n",
       " 'housing_yes',\n",
       " 'loan_no',\n",
       " 'loan_unknown',\n",
       " 'loan_yes',\n",
       " 'contact_cellular',\n",
       " 'contact_telephone',\n",
       " 'month_apr',\n",
       " 'month_aug',\n",
       " 'month_dec',\n",
       " 'month_jul',\n",
       " 'month_jun',\n",
       " 'month_mar',\n",
       " 'month_may',\n",
       " 'month_nov',\n",
       " 'month_oct',\n",
       " 'month_sep',\n",
       " 'day_of_week_fri',\n",
       " 'day_of_week_mon',\n",
       " 'day_of_week_thu',\n",
       " 'day_of_week_tue',\n",
       " 'day_of_week_wed',\n",
       " 'poutcome_failure',\n",
       " 'poutcome_nonexistent',\n",
       " 'poutcome_success',\n",
       " 'y_yes',\n",
       " 'vectorized_features']"
      ]
     },
     "execution_count": 82,
     "metadata": {},
     "output_type": "execute_result"
    }
   ],
   "source": [
    "train_df.columns"
   ]
  },
  {
   "cell_type": "code",
   "execution_count": 99,
   "id": "1027829e",
   "metadata": {},
   "outputs": [
    {
     "name": "stdout",
     "output_type": "stream",
     "text": [
      "Silhouette Score for 2 clusters:  0.3901665603141243\n",
      "Silhouette Score for 3 clusters:  0.40592975122204095\n",
      "Silhouette Score for 4 clusters:  0.2663298847287042\n",
      "Silhouette Score for 5 clusters:  0.258206860982\n",
      "Silhouette Score for 6 clusters:  0.2724416046381056\n",
      "Silhouette Score for 7 clusters:  0.261835796617096\n",
      "Silhouette Score for 8 clusters:  0.25778846318858595\n",
      "Silhouette Score for 9 clusters:  0.27073210701628897\n"
     ]
    }
   ],
   "source": [
    "from pyspark.ml.clustering import KMeans\n",
    "from pyspark.ml.evaluation import ClusteringEvaluator\n",
    "silhouette_score=[]\n",
    "evaluator = ClusteringEvaluator(predictionCol='prediction', featuresCol='vectorized_features', \\\n",
    "                                metricName='silhouette', distanceMeasure='squaredEuclidean')\n",
    "for i in range(2,10):\n",
    "    \n",
    "    KMeans_algo=KMeans(featuresCol='vectorized_features', k=i)\n",
    "    \n",
    "    KMeans_fit=KMeans_algo.fit(train_df)\n",
    "    \n",
    "    output=KMeans_fit.transform(train_df)\n",
    "    \n",
    "    \n",
    "    \n",
    "    score=evaluator.evaluate(output)\n",
    "    \n",
    "    silhouette_score.append(score)\n",
    "    \n",
    "    print(\"Silhouette Score for {} clusters: \".format(i),score)"
   ]
  },
  {
   "cell_type": "code",
   "execution_count": 86,
   "id": "2aa86237",
   "metadata": {},
   "outputs": [],
   "source": [
    "KMeans_algo=KMeans(featuresCol='vectorized_features', k=3)\n",
    "    \n",
    "KMeans_fit=KMeans_algo.fit(train_df)\n",
    "output=KMeans_fit.transform(train_df)"
   ]
  },
  {
   "cell_type": "code",
   "execution_count": 91,
   "id": "4a60935e",
   "metadata": {},
   "outputs": [
    {
     "data": {
      "text/html": [
       "<div>\n",
       "<style scoped>\n",
       "    .dataframe tbody tr th:only-of-type {\n",
       "        vertical-align: middle;\n",
       "    }\n",
       "\n",
       "    .dataframe tbody tr th {\n",
       "        vertical-align: top;\n",
       "    }\n",
       "\n",
       "    .dataframe thead th {\n",
       "        text-align: right;\n",
       "    }\n",
       "</style>\n",
       "<table border=\"1\" class=\"dataframe\">\n",
       "  <thead>\n",
       "    <tr style=\"text-align: right;\">\n",
       "      <th></th>\n",
       "      <th>pc1</th>\n",
       "      <th>pc2</th>\n",
       "      <th>prediction</th>\n",
       "    </tr>\n",
       "  </thead>\n",
       "  <tbody>\n",
       "    <tr>\n",
       "      <th>0</th>\n",
       "      <td>-1.600069</td>\n",
       "      <td>0.169452</td>\n",
       "      <td>0</td>\n",
       "    </tr>\n",
       "    <tr>\n",
       "      <th>1</th>\n",
       "      <td>-1.588052</td>\n",
       "      <td>0.306208</td>\n",
       "      <td>0</td>\n",
       "    </tr>\n",
       "    <tr>\n",
       "      <th>2</th>\n",
       "      <td>-1.796721</td>\n",
       "      <td>0.470207</td>\n",
       "      <td>0</td>\n",
       "    </tr>\n",
       "    <tr>\n",
       "      <th>3</th>\n",
       "      <td>-1.648162</td>\n",
       "      <td>-0.042371</td>\n",
       "      <td>0</td>\n",
       "    </tr>\n",
       "    <tr>\n",
       "      <th>4</th>\n",
       "      <td>-2.180826</td>\n",
       "      <td>0.673460</td>\n",
       "      <td>0</td>\n",
       "    </tr>\n",
       "  </tbody>\n",
       "</table>\n",
       "</div>"
      ],
      "text/plain": [
       "        pc1       pc2  prediction\n",
       "0 -1.600069  0.169452           0\n",
       "1 -1.588052  0.306208           0\n",
       "2 -1.796721  0.470207           0\n",
       "3 -1.648162 -0.042371           0\n",
       "4 -2.180826  0.673460           0"
      ]
     },
     "execution_count": 91,
     "metadata": {},
     "output_type": "execute_result"
    }
   ],
   "source": [
    "cluster.head()"
   ]
  },
  {
   "cell_type": "code",
   "execution_count": 96,
   "id": "de721fd0",
   "metadata": {},
   "outputs": [
    {
     "data": {
      "text/plain": [
       "<seaborn.axisgrid.FacetGrid at 0x229faa46320>"
      ]
     },
     "execution_count": 96,
     "metadata": {},
     "output_type": "execute_result"
    },
    {
     "data": {
      "image/png": "[encoded data removed]",
      "text/plain": [
       "<Figure size 571.361x500 with 1 Axes>"
      ]
     },
     "metadata": {},
     "output_type": "display_data"
    }
   ],
   "source": [
    "import seaborn as sns\n",
    "cluster=output.select('pc1','pc2','prediction').toPandas()\n",
    "sns.set_style('darkgrid')\n",
    "sns.lmplot(data=cluster,x='pc1',y='pc2',hue='prediction',palette='magma_r')"
   ]
  },
  {
   "cell_type": "code",
   "execution_count": 85,
   "id": "539947e1",
   "metadata": {},
   "outputs": [
    {
     "name": "stdout",
     "output_type": "stream",
     "text": [
      "range(2, 10)\n"
     ]
    }
   ],
   "source": [
    "print(range(2,10))"
   ]
  },
  {
   "cell_type": "code",
   "execution_count": 75,
   "id": "8f52f5aa",
   "metadata": {},
   "outputs": [
    {
     "name": "stdout",
     "output_type": "stream",
     "text": [
      "Test Area Under ROC 0.9105216099598431\n"
     ]
    }
   ],
   "source": [
    "# testing ROC for model\n",
    "from pyspark.ml.evaluation import BinaryClassificationEvaluator\n",
    "evaluator = BinaryClassificationEvaluator()\n",
    "print('Test Area Under ROC', evaluator.evaluate(predictions))"
   ]
  },
  {
   "cell_type": "code",
   "execution_count": 76,
   "id": "687cf4e1",
   "metadata": {},
   "outputs": [],
   "source": [
    "from handyspark import *"
   ]
  },
  {
   "cell_type": "code",
   "execution_count": 77,
   "id": "42e75a80",
   "metadata": {},
   "outputs": [
    {
     "name": "stderr",
     "output_type": "stream",
     "text": [
      "c:\\Users\\aghar\\AppData\\Local\\Programs\\Python\\Python310\\lib\\site-packages\\pyspark\\sql\\context.py:157: FutureWarning: Deprecated in 3.0.0. Use SparkSession.builder.getOrCreate() instead.\n",
      "  warnings.warn(\n"
     ]
    },
    {
     "name": "stdout",
     "output_type": "stream",
     "text": [
      "Area under ROC Curve: 0.9105\n",
      "Area under PR Curve: 0.5507\n"
     ]
    },
    {
     "name": "stderr",
     "output_type": "stream",
     "text": [
      "c:\\Users\\aghar\\AppData\\Local\\Programs\\Python\\Python310\\lib\\site-packages\\pyspark\\sql\\context.py:157: FutureWarning: Deprecated in 3.0.0. Use SparkSession.builder.getOrCreate() instead.\n",
      "  warnings.warn(\n"
     ]
    },
    {
     "data": {
      "text/plain": [
       "<AxesSubplot: title={'center': 'Precision-Recall Curve'}, xlabel='Recall', ylabel='Precision'>"
      ]
     },
     "execution_count": 77,
     "metadata": {},
     "output_type": "execute_result"
    },
    {
     "data": {
      "image/png": "[encoded data removed]",
      "text/plain": [
       "<Figure size 1200x400 with 2 Axes>"
      ]
     },
     "metadata": {},
     "output_type": "display_data"
    }
   ],
   "source": [
    "\n",
    "bcm = BinaryClassificationMetrics(predictions,scoreCol='probability', labelCol='label')\n",
    "\n",
    "# We still can get the same metrics as the evaluator...\n",
    "print(\"Area under ROC Curve: {:.4f}\".format(bcm.areaUnderROC))\n",
    "print(\"Area under PR Curve: {:.4f}\".format(bcm.areaUnderPR))\n",
    "\n",
    "# But now we can PLOT both ROC and PR curves!\n",
    "fig, axs = plt.subplots(1, 2, figsize=(12, 4))\n",
    "bcm.plot_roc_curve(ax=axs[0])\n",
    "bcm.plot_pr_curve(ax=axs[1])"
   ]
  },
  {
   "cell_type": "code",
   "execution_count": 78,
   "id": "c638ffdf",
   "metadata": {},
   "outputs": [
    {
     "name": "stdout",
     "output_type": "stream",
     "text": [
      "Precision: 0.672\n",
      "Recall: 0.380\n",
      "Accuracy: 0.908\n",
      "F1 Score: 0.486\n"
     ]
    }
   ],
   "source": [
    "from sklearn.metrics import precision_score, recall_score, f1_score, accuracy_score\n",
    "\t\n",
    "print('Precision: %.3f' % precision_score(y_true, y_pred))\n",
    "print('Recall: %.3f' % recall_score(y_true, y_pred))\n",
    "print('Accuracy: %.3f' % accuracy_score(y_true, y_pred))\n",
    "print('F1 Score: %.3f' % f1_score(y_true, y_pred))"
   ]
  },
  {
   "cell_type": "code",
   "execution_count": 184,
   "id": "eda3e58e",
   "metadata": {},
   "outputs": [
    {
     "name": "stdout",
     "output_type": "stream",
     "text": [
      "Collecting spark_ml_utilsNote: you may need to restart the kernel to use updated packages.\n"
     ]
    },
    {
     "name": "stderr",
     "output_type": "stream",
     "text": [
      "\n",
      "[notice] A new release of pip available: 22.2.2 -> 22.3.1\n",
      "[notice] To update, run: python.exe -m pip install --upgrade pip\n"
     ]
    },
    {
     "name": "stdout",
     "output_type": "stream",
     "text": [
      "\n",
      "  Downloading spark_ml_utils-0.0.3-py3-none-any.whl (6.7 kB)\n",
      "Installing collected packages: spark_ml_utils\n",
      "Successfully installed spark_ml_utils-0.0.3\n"
     ]
    }
   ],
   "source": [
    "pip install spark_ml_utils"
   ]
  },
  {
   "cell_type": "code",
   "execution_count": 53,
   "id": "729f88a3",
   "metadata": {},
   "outputs": [
    {
     "data": {
      "text/html": [
       "<div>\n",
       "<style scoped>\n",
       "    .dataframe tbody tr th:only-of-type {\n",
       "        vertical-align: middle;\n",
       "    }\n",
       "\n",
       "    .dataframe tbody tr th {\n",
       "        vertical-align: top;\n",
       "    }\n",
       "\n",
       "    .dataframe thead th {\n",
       "        text-align: right;\n",
       "    }\n",
       "</style>\n",
       "<table border=\"1\" class=\"dataframe\">\n",
       "  <thead>\n",
       "    <tr style=\"text-align: right;\">\n",
       "      <th></th>\n",
       "      <th>feature_index</th>\n",
       "      <th>feature_name</th>\n",
       "      <th>N</th>\n",
       "      <th>mean</th>\n",
       "      <th>std</th>\n",
       "    </tr>\n",
       "  </thead>\n",
       "  <tbody>\n",
       "    <tr>\n",
       "      <th>0</th>\n",
       "      <td>0</td>\n",
       "      <td>pc1</td>\n",
       "      <td>58498</td>\n",
       "      <td>6.332851e-13</td>\n",
       "      <td>1.954282</td>\n",
       "    </tr>\n",
       "    <tr>\n",
       "      <th>1</th>\n",
       "      <td>1</td>\n",
       "      <td>pc2</td>\n",
       "      <td>58498</td>\n",
       "      <td>-1.350523e-12</td>\n",
       "      <td>1.213902</td>\n",
       "    </tr>\n",
       "    <tr>\n",
       "      <th>2</th>\n",
       "      <td>2</td>\n",
       "      <td>pc3</td>\n",
       "      <td>58498</td>\n",
       "      <td>-1.248401e-12</td>\n",
       "      <td>1.077367</td>\n",
       "    </tr>\n",
       "    <tr>\n",
       "      <th>3</th>\n",
       "      <td>3</td>\n",
       "      <td>pc4</td>\n",
       "      <td>58498</td>\n",
       "      <td>2.103123e-12</td>\n",
       "      <td>1.018671</td>\n",
       "    </tr>\n",
       "    <tr>\n",
       "      <th>4</th>\n",
       "      <td>4</td>\n",
       "      <td>pc5</td>\n",
       "      <td>58498</td>\n",
       "      <td>-7.693342e-13</td>\n",
       "      <td>0.947854</td>\n",
       "    </tr>\n",
       "    <tr>\n",
       "      <th>...</th>\n",
       "      <td>...</td>\n",
       "      <td>...</td>\n",
       "      <td>...</td>\n",
       "      <td>...</td>\n",
       "      <td>...</td>\n",
       "    </tr>\n",
       "    <tr>\n",
       "      <th>58</th>\n",
       "      <td>58</td>\n",
       "      <td>day_of_week_tue</td>\n",
       "      <td>58498</td>\n",
       "      <td>1.286540e-01</td>\n",
       "      <td>0.334819</td>\n",
       "    </tr>\n",
       "    <tr>\n",
       "      <th>59</th>\n",
       "      <td>59</td>\n",
       "      <td>day_of_week_wed</td>\n",
       "      <td>58498</td>\n",
       "      <td>1.299532e-01</td>\n",
       "      <td>0.336255</td>\n",
       "    </tr>\n",
       "    <tr>\n",
       "      <th>60</th>\n",
       "      <td>60</td>\n",
       "      <td>poutcome_failure</td>\n",
       "      <td>58498</td>\n",
       "      <td>7.054942e-02</td>\n",
       "      <td>0.256073</td>\n",
       "    </tr>\n",
       "    <tr>\n",
       "      <th>61</th>\n",
       "      <td>61</td>\n",
       "      <td>poutcome_nonexistent</td>\n",
       "      <td>58498</td>\n",
       "      <td>7.424698e-01</td>\n",
       "      <td>0.437278</td>\n",
       "    </tr>\n",
       "    <tr>\n",
       "      <th>62</th>\n",
       "      <td>62</td>\n",
       "      <td>poutcome_success</td>\n",
       "      <td>58498</td>\n",
       "      <td>9.762727e-02</td>\n",
       "      <td>0.296813</td>\n",
       "    </tr>\n",
       "  </tbody>\n",
       "</table>\n",
       "<p>63 rows × 5 columns</p>\n",
       "</div>"
      ],
      "text/plain": [
       "    feature_index          feature_name      N          mean       std\n",
       "0               0                   pc1  58498  6.332851e-13  1.954282\n",
       "1               1                   pc2  58498 -1.350523e-12  1.213902\n",
       "2               2                   pc3  58498 -1.248401e-12  1.077367\n",
       "3               3                   pc4  58498  2.103123e-12  1.018671\n",
       "4               4                   pc5  58498 -7.693342e-13  0.947854\n",
       "..            ...                   ...    ...           ...       ...\n",
       "58             58       day_of_week_tue  58498  1.286540e-01  0.334819\n",
       "59             59       day_of_week_wed  58498  1.299532e-01  0.336255\n",
       "60             60      poutcome_failure  58498  7.054942e-02  0.256073\n",
       "61             61  poutcome_nonexistent  58498  7.424698e-01  0.437278\n",
       "62             62      poutcome_success  58498  9.762727e-02  0.296813\n",
       "\n",
       "[63 rows x 5 columns]"
      ]
     },
     "execution_count": 53,
     "metadata": {},
     "output_type": "execute_result"
    }
   ],
   "source": [
    "import spark_ml_utils.LogisticRegressionModel_util as lu\n",
    "#lrModel=lr.fit(train_df)\n",
    "#training_pred=lrModel.transform(train_df)\n",
    "lu.extract_feature_name(predictions,'vectorized_features',stat=True)"
   ]
  },
  {
   "cell_type": "code",
   "execution_count": 54,
   "id": "257f86e0",
   "metadata": {},
   "outputs": [
    {
     "data": {
      "text/html": [
       "<div>\n",
       "<style scoped>\n",
       "    .dataframe tbody tr th:only-of-type {\n",
       "        vertical-align: middle;\n",
       "    }\n",
       "\n",
       "    .dataframe tbody tr th {\n",
       "        vertical-align: top;\n",
       "    }\n",
       "\n",
       "    .dataframe thead th {\n",
       "        text-align: right;\n",
       "    }\n",
       "</style>\n",
       "<table border=\"1\" class=\"dataframe\">\n",
       "  <thead>\n",
       "    <tr style=\"text-align: right;\">\n",
       "      <th></th>\n",
       "      <th>feature_index</th>\n",
       "      <th>feature_name</th>\n",
       "      <th>coef</th>\n",
       "      <th>mean</th>\n",
       "      <th>std</th>\n",
       "      <th>std_coef</th>\n",
       "      <th>feature_importance</th>\n",
       "    </tr>\n",
       "  </thead>\n",
       "  <tbody>\n",
       "    <tr>\n",
       "      <th>0</th>\n",
       "      <td>3</td>\n",
       "      <td>pc4</td>\n",
       "      <td>-1.145172</td>\n",
       "      <td>2.103123e-12</td>\n",
       "      <td>1.018671</td>\n",
       "      <td>-1.166554</td>\n",
       "      <td>1.166554</td>\n",
       "    </tr>\n",
       "    <tr>\n",
       "      <th>1</th>\n",
       "      <td>0</td>\n",
       "      <td>pc1</td>\n",
       "      <td>0.358309</td>\n",
       "      <td>6.332851e-13</td>\n",
       "      <td>1.954282</td>\n",
       "      <td>0.700237</td>\n",
       "      <td>0.700237</td>\n",
       "    </tr>\n",
       "    <tr>\n",
       "      <th>2</th>\n",
       "      <td>2</td>\n",
       "      <td>pc3</td>\n",
       "      <td>0.585395</td>\n",
       "      <td>-1.248401e-12</td>\n",
       "      <td>1.077367</td>\n",
       "      <td>0.630685</td>\n",
       "      <td>0.630685</td>\n",
       "    </tr>\n",
       "    <tr>\n",
       "      <th>3</th>\n",
       "      <td>5</td>\n",
       "      <td>pc6</td>\n",
       "      <td>0.667936</td>\n",
       "      <td>-6.825096e-14</td>\n",
       "      <td>0.919640</td>\n",
       "      <td>0.614261</td>\n",
       "      <td>0.614261</td>\n",
       "    </tr>\n",
       "    <tr>\n",
       "      <th>4</th>\n",
       "      <td>56</td>\n",
       "      <td>day_of_week_mon</td>\n",
       "      <td>-1.717875</td>\n",
       "      <td>1.310130e-01</td>\n",
       "      <td>0.337417</td>\n",
       "      <td>-0.579641</td>\n",
       "      <td>0.579641</td>\n",
       "    </tr>\n",
       "    <tr>\n",
       "      <th>...</th>\n",
       "      <td>...</td>\n",
       "      <td>...</td>\n",
       "      <td>...</td>\n",
       "      <td>...</td>\n",
       "      <td>...</td>\n",
       "      <td>...</td>\n",
       "      <td>...</td>\n",
       "    </tr>\n",
       "    <tr>\n",
       "      <th>58</th>\n",
       "      <td>47</td>\n",
       "      <td>month_dec</td>\n",
       "      <td>-1.037215</td>\n",
       "      <td>3.829191e-03</td>\n",
       "      <td>0.061762</td>\n",
       "      <td>-0.064061</td>\n",
       "      <td>0.064061</td>\n",
       "    </tr>\n",
       "    <tr>\n",
       "      <th>59</th>\n",
       "      <td>25</td>\n",
       "      <td>marital_unknown</td>\n",
       "      <td>-1.163763</td>\n",
       "      <td>1.111149e-03</td>\n",
       "      <td>0.033316</td>\n",
       "      <td>-0.038772</td>\n",
       "      <td>0.038772</td>\n",
       "    </tr>\n",
       "    <tr>\n",
       "      <th>60</th>\n",
       "      <td>7</td>\n",
       "      <td>pc8</td>\n",
       "      <td>0.073496</td>\n",
       "      <td>-6.837274e-13</td>\n",
       "      <td>0.504083</td>\n",
       "      <td>0.037048</td>\n",
       "      <td>0.037048</td>\n",
       "    </tr>\n",
       "    <tr>\n",
       "      <th>61</th>\n",
       "      <td>30</td>\n",
       "      <td>education_illiterate</td>\n",
       "      <td>-1.061455</td>\n",
       "      <td>2.735136e-04</td>\n",
       "      <td>0.016536</td>\n",
       "      <td>-0.017552</td>\n",
       "      <td>0.017552</td>\n",
       "    </tr>\n",
       "    <tr>\n",
       "      <th>62</th>\n",
       "      <td>36</td>\n",
       "      <td>default_yes</td>\n",
       "      <td>-2.338380</td>\n",
       "      <td>3.418920e-05</td>\n",
       "      <td>0.005847</td>\n",
       "      <td>-0.013673</td>\n",
       "      <td>0.013673</td>\n",
       "    </tr>\n",
       "  </tbody>\n",
       "</table>\n",
       "<p>63 rows × 7 columns</p>\n",
       "</div>"
      ],
      "text/plain": [
       "    feature_index          feature_name      coef          mean       std  \\\n",
       "0               3                   pc4 -1.145172  2.103123e-12  1.018671   \n",
       "1               0                   pc1  0.358309  6.332851e-13  1.954282   \n",
       "2               2                   pc3  0.585395 -1.248401e-12  1.077367   \n",
       "3               5                   pc6  0.667936 -6.825096e-14  0.919640   \n",
       "4              56       day_of_week_mon -1.717875  1.310130e-01  0.337417   \n",
       "..            ...                   ...       ...           ...       ...   \n",
       "58             47             month_dec -1.037215  3.829191e-03  0.061762   \n",
       "59             25       marital_unknown -1.163763  1.111149e-03  0.033316   \n",
       "60              7                   pc8  0.073496 -6.837274e-13  0.504083   \n",
       "61             30  education_illiterate -1.061455  2.735136e-04  0.016536   \n",
       "62             36           default_yes -2.338380  3.418920e-05  0.005847   \n",
       "\n",
       "    std_coef  feature_importance  \n",
       "0  -1.166554            1.166554  \n",
       "1   0.700237            0.700237  \n",
       "2   0.630685            0.630685  \n",
       "3   0.614261            0.614261  \n",
       "4  -0.579641            0.579641  \n",
       "..       ...                 ...  \n",
       "58 -0.064061            0.064061  \n",
       "59 -0.038772            0.038772  \n",
       "60  0.037048            0.037048  \n",
       "61 -0.017552            0.017552  \n",
       "62 -0.013673            0.013673  \n",
       "\n",
       "[63 rows x 7 columns]"
      ]
     },
     "execution_count": 54,
     "metadata": {},
     "output_type": "execute_result"
    }
   ],
   "source": [
    "lu.feature_importance(lrm_model=lrModel\n",
    "                      , trainDF=train_df, trainFeatures='vectorized_features'\n",
    "                      , nonzero_only=True )"
   ]
  },
  {
   "cell_type": "code",
   "execution_count": 189,
   "id": "c7a536d6",
   "metadata": {},
   "outputs": [
    {
     "data": {
      "text/plain": [
       "[('pc1', 'double'),\n",
       " ('pc2', 'double'),\n",
       " ('pc3', 'double'),\n",
       " ('pc4', 'double'),\n",
       " ('pc5', 'double'),\n",
       " ('pc6', 'double'),\n",
       " ('pc7', 'double'),\n",
       " ('pc8', 'double'),\n",
       " ('job_admin', 'int'),\n",
       " ('job_blue-collar', 'int'),\n",
       " ('job_entrepreneur', 'int'),\n",
       " ('job_housemaid', 'int'),\n",
       " ('job_management', 'int'),\n",
       " ('job_retired', 'int'),\n",
       " ('job_self-employed', 'int'),\n",
       " ('job_services', 'int'),\n",
       " ('job_student', 'int'),\n",
       " ('job_technician', 'int'),\n",
       " ('job_unemployed', 'int'),\n",
       " ('job_unknown', 'int'),\n",
       " ('marital_divorced', 'int'),\n",
       " ('marital_married', 'int'),\n",
       " ('marital_single', 'int'),\n",
       " ('marital_unknown', 'int'),\n",
       " ('education_basic_4y', 'int'),\n",
       " ('education_basic_6y', 'int'),\n",
       " ('education_basic_9y', 'int'),\n",
       " ('education_high_school', 'int'),\n",
       " ('education_illiterate', 'int'),\n",
       " ('education_professional_course', 'int'),\n",
       " ('education_university_degree', 'int'),\n",
       " ('education_unknown', 'int'),\n",
       " ('default_no', 'int'),\n",
       " ('default_unknown', 'int'),\n",
       " ('default_yes', 'int'),\n",
       " ('housing_no', 'int'),\n",
       " ('housing_unknown', 'int'),\n",
       " ('housing_yes', 'int'),\n",
       " ('loan_no', 'int'),\n",
       " ('loan_unknown', 'int'),\n",
       " ('loan_yes', 'int'),\n",
       " ('contact_cellular', 'int'),\n",
       " ('contact_telephone', 'int'),\n",
       " ('month_apr', 'int'),\n",
       " ('month_aug', 'int'),\n",
       " ('month_dec', 'int'),\n",
       " ('month_jul', 'int'),\n",
       " ('month_jun', 'int'),\n",
       " ('month_mar', 'int'),\n",
       " ('month_may', 'int'),\n",
       " ('month_nov', 'int'),\n",
       " ('month_oct', 'int'),\n",
       " ('month_sep', 'int'),\n",
       " ('day_of_week_fri', 'int'),\n",
       " ('day_of_week_mon', 'int'),\n",
       " ('day_of_week_thu', 'int'),\n",
       " ('day_of_week_tue', 'int'),\n",
       " ('day_of_week_wed', 'int'),\n",
       " ('poutcome_failure', 'int'),\n",
       " ('poutcome_nonexistent', 'int'),\n",
       " ('poutcome_success', 'int'),\n",
       " ('label', 'int'),\n",
       " ('vectorized_features', 'vector'),\n",
       " ('rawPrediction', 'vector'),\n",
       " ('probability', 'vector'),\n",
       " ('prediction', 'double')]"
      ]
     },
     "execution_count": 189,
     "metadata": {},
     "output_type": "execute_result"
    }
   ],
   "source": [
    "predictions.dtypes"
   ]
  },
  {
   "cell_type": "code",
   "execution_count": 186,
   "id": "20a80263",
   "metadata": {},
   "outputs": [
    {
     "data": {
      "text/html": [
       "<div>\n",
       "<style scoped>\n",
       "    .dataframe tbody tr th:only-of-type {\n",
       "        vertical-align: middle;\n",
       "    }\n",
       "\n",
       "    .dataframe tbody tr th {\n",
       "        vertical-align: top;\n",
       "    }\n",
       "\n",
       "    .dataframe thead th {\n",
       "        text-align: right;\n",
       "    }\n",
       "</style>\n",
       "<table border=\"1\" class=\"dataframe\">\n",
       "  <thead>\n",
       "    <tr style=\"text-align: right;\">\n",
       "      <th></th>\n",
       "      <th>feature_index</th>\n",
       "      <th>feature_name</th>\n",
       "      <th>coef</th>\n",
       "      <th>mean</th>\n",
       "      <th>std</th>\n",
       "      <th>std_coef</th>\n",
       "      <th>feature_importance</th>\n",
       "    </tr>\n",
       "  </thead>\n",
       "  <tbody>\n",
       "    <tr>\n",
       "      <th>0</th>\n",
       "      <td>3</td>\n",
       "      <td>pc4</td>\n",
       "      <td>-1.141797</td>\n",
       "      <td>-2.000770e-12</td>\n",
       "      <td>1.018560</td>\n",
       "      <td>-1.162989</td>\n",
       "      <td>1.162989</td>\n",
       "    </tr>\n",
       "    <tr>\n",
       "      <th>1</th>\n",
       "      <td>0</td>\n",
       "      <td>pc1</td>\n",
       "      <td>0.390557</td>\n",
       "      <td>-3.933060e-13</td>\n",
       "      <td>1.954194</td>\n",
       "      <td>0.763224</td>\n",
       "      <td>0.763224</td>\n",
       "    </tr>\n",
       "    <tr>\n",
       "      <th>2</th>\n",
       "      <td>5</td>\n",
       "      <td>pc6</td>\n",
       "      <td>0.762829</td>\n",
       "      <td>2.941357e-12</td>\n",
       "      <td>0.923782</td>\n",
       "      <td>0.704688</td>\n",
       "      <td>0.704688</td>\n",
       "    </tr>\n",
       "    <tr>\n",
       "      <th>3</th>\n",
       "      <td>2</td>\n",
       "      <td>pc3</td>\n",
       "      <td>0.620732</td>\n",
       "      <td>-1.248337e-12</td>\n",
       "      <td>1.080583</td>\n",
       "      <td>0.670753</td>\n",
       "      <td>0.670753</td>\n",
       "    </tr>\n",
       "    <tr>\n",
       "      <th>4</th>\n",
       "      <td>54</td>\n",
       "      <td>day_of_week_mon</td>\n",
       "      <td>-1.765591</td>\n",
       "      <td>1.304444e-01</td>\n",
       "      <td>0.336795</td>\n",
       "      <td>-0.594642</td>\n",
       "      <td>0.594642</td>\n",
       "    </tr>\n",
       "    <tr>\n",
       "      <th>...</th>\n",
       "      <td>...</td>\n",
       "      <td>...</td>\n",
       "      <td>...</td>\n",
       "      <td>...</td>\n",
       "      <td>...</td>\n",
       "      <td>...</td>\n",
       "      <td>...</td>\n",
       "    </tr>\n",
       "    <tr>\n",
       "      <th>56</th>\n",
       "      <td>23</td>\n",
       "      <td>marital_unknown</td>\n",
       "      <td>-1.222055</td>\n",
       "      <td>1.179951e-03</td>\n",
       "      <td>0.034330</td>\n",
       "      <td>-0.041954</td>\n",
       "      <td>0.041954</td>\n",
       "    </tr>\n",
       "    <tr>\n",
       "      <th>57</th>\n",
       "      <td>51</td>\n",
       "      <td>month_oct</td>\n",
       "      <td>-0.293076</td>\n",
       "      <td>2.069190e-02</td>\n",
       "      <td>0.142352</td>\n",
       "      <td>-0.041720</td>\n",
       "      <td>0.041720</td>\n",
       "    </tr>\n",
       "    <tr>\n",
       "      <th>58</th>\n",
       "      <td>45</td>\n",
       "      <td>month_dec</td>\n",
       "      <td>-0.634682</td>\n",
       "      <td>4.155480e-03</td>\n",
       "      <td>0.064329</td>\n",
       "      <td>-0.040829</td>\n",
       "      <td>0.040829</td>\n",
       "    </tr>\n",
       "    <tr>\n",
       "      <th>59</th>\n",
       "      <td>28</td>\n",
       "      <td>education_illiterate</td>\n",
       "      <td>-1.514603</td>\n",
       "      <td>2.907126e-04</td>\n",
       "      <td>0.017048</td>\n",
       "      <td>-0.025821</td>\n",
       "      <td>0.025821</td>\n",
       "    </tr>\n",
       "    <tr>\n",
       "      <th>60</th>\n",
       "      <td>34</td>\n",
       "      <td>default_yes</td>\n",
       "      <td>-2.387324</td>\n",
       "      <td>3.420148e-05</td>\n",
       "      <td>0.005848</td>\n",
       "      <td>-0.013961</td>\n",
       "      <td>0.013961</td>\n",
       "    </tr>\n",
       "  </tbody>\n",
       "</table>\n",
       "<p>61 rows × 7 columns</p>\n",
       "</div>"
      ],
      "text/plain": [
       "    feature_index          feature_name      coef          mean       std  \\\n",
       "0               3                   pc4 -1.141797 -2.000770e-12  1.018560   \n",
       "1               0                   pc1  0.390557 -3.933060e-13  1.954194   \n",
       "2               5                   pc6  0.762829  2.941357e-12  0.923782   \n",
       "3               2                   pc3  0.620732 -1.248337e-12  1.080583   \n",
       "4              54       day_of_week_mon -1.765591  1.304444e-01  0.336795   \n",
       "..            ...                   ...       ...           ...       ...   \n",
       "56             23       marital_unknown -1.222055  1.179951e-03  0.034330   \n",
       "57             51             month_oct -0.293076  2.069190e-02  0.142352   \n",
       "58             45             month_dec -0.634682  4.155480e-03  0.064329   \n",
       "59             28  education_illiterate -1.514603  2.907126e-04  0.017048   \n",
       "60             34           default_yes -2.387324  3.420148e-05  0.005848   \n",
       "\n",
       "    std_coef  feature_importance  \n",
       "0  -1.162989            1.162989  \n",
       "1   0.763224            0.763224  \n",
       "2   0.704688            0.704688  \n",
       "3   0.670753            0.670753  \n",
       "4  -0.594642            0.594642  \n",
       "..       ...                 ...  \n",
       "56 -0.041954            0.041954  \n",
       "57 -0.041720            0.041720  \n",
       "58 -0.040829            0.040829  \n",
       "59 -0.025821            0.025821  \n",
       "60 -0.013961            0.013961  \n",
       "\n",
       "[61 rows x 7 columns]"
      ]
     },
     "execution_count": 186,
     "metadata": {},
     "output_type": "execute_result"
    }
   ],
   "source": [
    "\n",
    "lu.feature_importance(lrm_model=lrModel\n",
    "                      , trainDF=train_df, trainFeatures='vectorized_features'\n",
    "                      , nonzero_only=True )"
   ]
  },
  {
   "cell_type": "code",
   "execution_count": 179,
   "id": "c4de2888",
   "metadata": {},
   "outputs": [],
   "source": [
    "cv_summary=cvModel.bestModel.summary\n",
    "fMeasure = cv_summary.fMeasureByThreshold\n",
    "maxFMeasure = fMeasure.groupBy().max('F-Measure').select('max(F-Measure)').head()\n",
    "bestThreshold = fMeasure.where(fMeasure['F-Measure'] == maxFMeasure['max(F-Measure)']) \\\n",
    "    .select('threshold').head()['threshold']"
   ]
  },
  {
   "cell_type": "code",
   "execution_count": 180,
   "id": "3fd87620",
   "metadata": {},
   "outputs": [
    {
     "data": {
      "text/plain": [
       "0.37658835325570317"
      ]
     },
     "execution_count": 180,
     "metadata": {},
     "output_type": "execute_result"
    }
   ],
   "source": [
    "bestThreshold"
   ]
  }
 ],
 "metadata": {
  "kernelspec": {
   "display_name": "Python 3.10.8 64-bit",
   "language": "python",
   "name": "python3"
  },
  "language_info": {
   "codemirror_mode": {
    "name": "ipython",
    "version": 3
   },
   "file_extension": ".py",
   "mimetype": "text/x-python",
   "name": "python",
   "nbconvert_exporter": "python",
   "pygments_lexer": "ipython3",
   "version": "3.10.8"
  },
  "vscode": {
   "interpreter": {
    "hash": "d82ec91dfcce60fecb20bdc3cae00c6378316a7bc17a3d4eb8d1d052897dbe04"
   }
  }
 },
 "nbformat": 4,
 "nbformat_minor": 5
}
