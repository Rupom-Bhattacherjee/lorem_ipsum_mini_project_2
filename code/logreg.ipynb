{
 "cells": [
  {
   "cell_type": "code",
   "execution_count": 1,
   "id": "2c08a464",
   "metadata": {},
   "outputs": [
    {
     "name": "stdout",
     "output_type": "stream",
     "text": [
      "username: aghar\n",
      "Today's date: 2022-11-16\n"
     ]
    }
   ],
   "source": [
    "import os\n",
    " \n",
    "print(\"username:\" , os.getlogin())\n",
    "from datetime import date\n",
    "\n",
    "today = date.today()\n",
    "print(\"Today's date:\", today)\n",
    "import findspark\n",
    "findspark.init()"
   ]
  },
  {
   "cell_type": "code",
   "execution_count": 2,
   "id": "daf56730",
   "metadata": {},
   "outputs": [],
   "source": [
    "from pyspark.sql import SparkSession\n",
    "from pyspark.conf import SparkConf\n",
    "from pyspark.sql.types import * \n",
    "import pyspark.sql.functions as F\n",
    "from pyspark.sql.functions import col, asc,desc\n",
    "import matplotlib.pyplot as plt\n",
    "import numpy as np\n",
    "import seaborn as sns\n",
    "from pyspark.sql import SQLContext\n",
    "from pyspark.mllib.stat import Statistics\n",
    "import pandas as pd\n",
    "from pyspark.sql.functions import udf\n",
    "from pyspark.ml.feature import OneHotEncoder, StringIndexer, VectorAssembler,StandardScaler\n",
    "from pyspark.ml import Pipeline\n",
    "from sklearn.metrics import confusion_matrix\n",
    "\n",
    "spark=SparkSession.builder \\\n",
    ".master (\"local[*]\")\\\n",
    ".appName(\"part3\")\\\n",
    ".getOrCreate()\n",
    "\n",
    "import numpy as np"
   ]
  },
  {
   "cell_type": "code",
   "execution_count": 3,
   "id": "693420d7",
   "metadata": {},
   "outputs": [
    {
     "name": "stderr",
     "output_type": "stream",
     "text": [
      "C:\\Apps\\spark-3.3.1-bin-hadoop3\\python\\pyspark\\sql\\context.py:112: FutureWarning: Deprecated in 3.0.0. Use SparkSession.builder.getOrCreate() instead.\n",
      "  warnings.warn(\n"
     ]
    }
   ],
   "source": [
    "sc=spark.sparkContext\n",
    "sqlContext=SQLContext(sc)"
   ]
  },
  {
   "cell_type": "code",
   "execution_count": 4,
   "id": "c1cb852c",
   "metadata": {},
   "outputs": [
    {
     "data": {
      "text/plain": [
       "'c:\\\\Users\\\\aghar\\\\Downloads'"
      ]
     },
     "execution_count": 4,
     "metadata": {},
     "output_type": "execute_result"
    }
   ],
   "source": [
    "import os\n",
    "os.getcwd()"
   ]
  },
  {
   "cell_type": "code",
   "execution_count": 5,
   "id": "cb613394",
   "metadata": {},
   "outputs": [
    {
     "name": "stdout",
     "output_type": "stream",
     "text": [
      "3.10.8\n"
     ]
    }
   ],
   "source": [
    "from platform import python_version\n",
    "\n",
    "print(python_version())"
   ]
  },
  {
   "cell_type": "code",
   "execution_count": 6,
   "id": "4f99b99d",
   "metadata": {},
   "outputs": [
    {
     "data": {
      "text/plain": [
       "'3.3.1'"
      ]
     },
     "execution_count": 6,
     "metadata": {},
     "output_type": "execute_result"
    }
   ],
   "source": [
    "sc.version #spark version"
   ]
  },
  {
   "cell_type": "code",
   "execution_count": 7,
   "id": "01439a4c",
   "metadata": {},
   "outputs": [
    {
     "name": "stdout",
     "output_type": "stream",
     "text": [
      "There are 58498 rows 64 columns in the data.\n",
      "There are 8238 rows 64 columns in the data.\n"
     ]
    }
   ],
   "source": [
    "train_df=spark.read \\\n",
    " .option(\"header\",\"True\")\\\n",
    " .option(\"inferSchema\",\"True\")\\\n",
    " .csv(\"train_smote_pca_scaled_99.csv\")\n",
    "print(\"There are\",train_df.count(),\"rows\",len(train_df.columns),\n",
    "      \"columns\" ,\"in the data.\") \n",
    "test_df=spark.read \\\n",
    " .option(\"header\",\"True\")\\\n",
    " .option(\"inferSchema\",\"True\")\\\n",
    " .csv(\"test_pca_scaled_99.csv\")\n",
    "print(\"There are\",test_df.count(),\"rows\",len(test_df.columns),\n",
    "      \"columns\" ,\"in the data.\") "
   ]
  },
  {
   "cell_type": "code",
   "execution_count": 8,
   "id": "f145c86a",
   "metadata": {},
   "outputs": [],
   "source": [
    "cols=train_df.columns"
   ]
  },
  {
   "cell_type": "code",
   "execution_count": 9,
   "id": "58bcf0ed",
   "metadata": {},
   "outputs": [],
   "source": [
    "cols.remove('y_yes')"
   ]
  },
  {
   "cell_type": "code",
   "execution_count": 10,
   "id": "2856f4b7",
   "metadata": {},
   "outputs": [],
   "source": [
    "features=cols"
   ]
  },
  {
   "cell_type": "code",
   "execution_count": 11,
   "id": "05cdc63a",
   "metadata": {},
   "outputs": [],
   "source": [
    "dependentVariable = \"y_yes\"\n",
    "\n",
    "assemblerInputs = features\n",
    "assembler = VectorAssembler(inputCols=assemblerInputs, outputCol='vectorized_features', handleInvalid='skip')\n",
    "\n",
    "\n"
   ]
  },
  {
   "cell_type": "code",
   "execution_count": 12,
   "id": "79dd0f15",
   "metadata": {},
   "outputs": [],
   "source": [
    "stages=[]\n",
    "stages+=[assembler]"
   ]
  },
  {
   "cell_type": "code",
   "execution_count": 13,
   "id": "b34ad721",
   "metadata": {},
   "outputs": [],
   "source": [
    "pipeline = Pipeline(stages=stages)\n",
    "pipelinemodel = pipeline.fit(train_df)"
   ]
  },
  {
   "cell_type": "code",
   "execution_count": 14,
   "id": "d74c4769",
   "metadata": {},
   "outputs": [],
   "source": [
    "train_df= pipelinemodel.transform(train_df)"
   ]
  },
  {
   "cell_type": "code",
   "execution_count": 15,
   "id": "2a7cc13e",
   "metadata": {},
   "outputs": [],
   "source": [
    "pipeline = Pipeline(stages=stages)\n",
    "pipelinemodel = pipeline.fit(test_df)"
   ]
  },
  {
   "cell_type": "code",
   "execution_count": 16,
   "id": "509cf559",
   "metadata": {},
   "outputs": [],
   "source": [
    "test_df= pipelinemodel.transform(test_df)"
   ]
  },
  {
   "cell_type": "code",
   "execution_count": 17,
   "id": "12ac99ac",
   "metadata": {},
   "outputs": [],
   "source": [
    "from pyspark.ml.classification import LogisticRegression\n",
    "lr = LogisticRegression(featuresCol = 'vectorized_features', labelCol = 'y_yes', maxIter=5)\n"
   ]
  },
  {
   "cell_type": "code",
   "execution_count": 18,
   "id": "c71a26e1",
   "metadata": {},
   "outputs": [
    {
     "name": "stdout",
     "output_type": "stream",
     "text": [
      "+--------------------+--------------------+\n",
      "|                 FPR|                 TPR|\n",
      "+--------------------+--------------------+\n",
      "|                 0.0|                 0.0|\n",
      "|3.418920304967691E-5|0.001948784573831584|\n",
      "|6.837840609935383E-5|0.003897569147663168|\n",
      "|1.025676091490307...|0.005846353721494752|\n",
      "|1.025676091490307...|0.007829327498376013|\n",
      "|1.025676091490307...|0.009812301275257274|\n",
      "|1.025676091490307...|0.011795275052138534|\n",
      "|1.025676091490307...|0.013812438032069472|\n",
      "|1.025676091490307...|0.015795411808950735|\n",
      "|1.709460152483845...|0.017710007179732642|\n",
      "|1.709460152483845...|  0.0196929809566139|\n",
      "|1.709460152483845...| 0.02167595473349516|\n",
      "|2.051352182980614...|0.023624739307326746|\n",
      "|2.051352182980614...|0.025607713084208006|\n",
      "|2.393244213477383...| 0.02755649765803959|\n",
      "|2.393244213477383...| 0.02953947143492085|\n",
      "|2.393244213477383...|0.031522445211802114|\n",
      "|2.393244213477383...| 0.03350541898868337|\n",
      "|2.393244213477383...| 0.03548839276556463|\n",
      "|2.393244213477383...| 0.03747136654244589|\n",
      "+--------------------+--------------------+\n",
      "only showing top 20 rows\n",
      "\n",
      "areaUnderROC: 0.9899865699166963\n"
     ]
    },
    {
     "data": {
      "text/plain": [
       "LogisticRegressionModel: uid=LogisticRegression_20954efcbeb4, numClasses=2, numFeatures=63"
      ]
     },
     "execution_count": 18,
     "metadata": {},
     "output_type": "execute_result"
    }
   ],
   "source": [
    "lrModel = lr.fit(train_df)\n",
    "# training ROC for the model\n",
    "trainingSummary = lrModel.summary\n",
    "\n",
    "trainingSummary.roc.show()\n",
    "print(\"areaUnderROC: \" + str(trainingSummary.areaUnderROC))\n",
    "\n",
    "# Set the model threshold to maximize F-Measure\n",
    "fMeasure = trainingSummary.fMeasureByThreshold\n",
    "maxFMeasure = fMeasure.groupBy().max('F-Measure').select('max(F-Measure)').head()\n",
    "bestThreshold = fMeasure.where(fMeasure['F-Measure'] == maxFMeasure['max(F-Measure)']) \\\n",
    "    .select('threshold').head()['threshold']\n",
    "lrModel.setThreshold(bestThreshold)\n",
    "\n"
   ]
  },
  {
   "cell_type": "code",
   "execution_count": 19,
   "id": "3b9c808c",
   "metadata": {},
   "outputs": [],
   "source": [
    "# confusion matrix\n",
    "class_names=[1.0,0.0]\n",
    "import itertools\n",
    "def plot_confusion_matrix(cm, classes,\n",
    "                          normalize=False,\n",
    "                          title='Confusion matrix',\n",
    "                          cmap=plt.cm.Blues):\n",
    "    \"\"\"\n",
    "    This function prints and plots the confusion matrix.\n",
    "    Normalization can be applied by setting `normalize=True`.\n",
    "    \"\"\"\n",
    "    if normalize:\n",
    "        cm = cm.astype('float') / cm.sum(axis=1)[:, np.newaxis]\n",
    "        print(\"Normalized confusion matrix\")\n",
    "    else:\n",
    "        print('Confusion matrix, without normalization')\n",
    "\n",
    "    print(cm)\n",
    "\n",
    "    plt.imshow(cm, interpolation='nearest', cmap=cmap)\n",
    "    plt.title(title)\n",
    "    plt.colorbar()\n",
    "    tick_marks = np.arange(len(classes))\n",
    "    plt.xticks(tick_marks, classes, rotation=45)\n",
    "    plt.yticks(tick_marks, classes)\n",
    "\n",
    "    fmt = '.2f' if normalize else 'd'\n",
    "    thresh = cm.max() / 2.\n",
    "    for i, j in itertools.product(range(cm.shape[0]), range(cm.shape[1])):\n",
    "        plt.text(j, i, format(cm[i, j], fmt),\n",
    "                 horizontalalignment=\"center\",\n",
    "                 color=\"white\" if cm[i, j] > thresh else \"black\")\n",
    "\n",
    "    plt.tight_layout()\n",
    "    plt.ylabel('True label')\n",
    "    plt.xlabel('Predicted label')"
   ]
  },
  {
   "cell_type": "code",
   "execution_count": 20,
   "id": "00ac7829",
   "metadata": {},
   "outputs": [
    {
     "name": "stdout",
     "output_type": "stream",
     "text": [
      "Confusion matrix, without normalization\n",
      "[[ 451  488]\n",
      " [ 257 7042]]\n"
     ]
    },
    {
     "data": {
      "image/png": "[encoded data removed]",
      "text/plain": [
       "<Figure size 640x480 with 2 Axes>"
      ]
     },
     "metadata": {},
     "output_type": "display_data"
    },
    {
     "name": "stdout",
     "output_type": "stream",
     "text": [
      "Accuracy :  0.9095654285020636\n"
     ]
    }
   ],
   "source": [
    "predictions = lrModel.transform(test_df)\n",
    "predictions=predictions.withColumnRenamed(\"y_yes\",\"label\")\n",
    "y_true = predictions.select(\"label\")\n",
    "y_true = y_true.toPandas()\n",
    "\n",
    "y_pred = predictions.select(\"prediction\")\n",
    "y_pred = y_pred.toPandas()\n",
    "\n",
    "cnf_matrix = confusion_matrix(y_true, y_pred,labels=class_names)\n",
    "#cnf_matrix\n",
    "plt.figure()\n",
    "plot_confusion_matrix(cnf_matrix, classes=class_names,\n",
    "                      title='Confusion matrix')\n",
    "plt.show()\n",
    "accuracy = predictions.filter(predictions.label == predictions.prediction).count() / float(predictions.count())\n",
    "print(\"Accuracy : \",accuracy)"
   ]
  },
  {
   "cell_type": "code",
   "execution_count": 21,
   "id": "8f52f5aa",
   "metadata": {},
   "outputs": [
    {
     "name": "stdout",
     "output_type": "stream",
     "text": [
      "Test Area Under ROC 0.930318039978334\n"
     ]
    }
   ],
   "source": [
    "# testing ROC for model\n",
    "from pyspark.ml.evaluation import BinaryClassificationEvaluator\n",
    "evaluator = BinaryClassificationEvaluator()\n",
    "print('Test Area Under ROC', evaluator.evaluate(predictions))"
   ]
  },
  {
   "cell_type": "code",
   "execution_count": 22,
   "id": "687cf4e1",
   "metadata": {},
   "outputs": [],
   "source": [
    "from handyspark import *"
   ]
  },
  {
   "cell_type": "code",
   "execution_count": 53,
   "id": "42e75a80",
   "metadata": {},
   "outputs": [
    {
     "name": "stderr",
     "output_type": "stream",
     "text": [
      "C:\\Apps\\spark-3.3.1-bin-hadoop3\\python\\pyspark\\sql\\context.py:157: FutureWarning: Deprecated in 3.0.0. Use SparkSession.builder.getOrCreate() instead.\n",
      "  warnings.warn(\n"
     ]
    },
    {
     "name": "stdout",
     "output_type": "stream",
     "text": [
      "Area under ROC Curve: 0.9317\n",
      "Area under PR Curve: 0.5915\n"
     ]
    },
    {
     "name": "stderr",
     "output_type": "stream",
     "text": [
      "C:\\Apps\\spark-3.3.1-bin-hadoop3\\python\\pyspark\\sql\\context.py:157: FutureWarning: Deprecated in 3.0.0. Use SparkSession.builder.getOrCreate() instead.\n",
      "  warnings.warn(\n"
     ]
    },
    {
     "data": {
      "text/plain": [
       "<AxesSubplot: title={'center': 'Precision-Recall Curve'}, xlabel='Recall', ylabel='Precision'>"
      ]
     },
     "execution_count": 53,
     "metadata": {},
     "output_type": "execute_result"
    },
    {
     "data": {
      "image/png": "[encoded data removed]",
      "text/plain": [
       "<Figure size 1200x400 with 2 Axes>"
      ]
     },
     "metadata": {},
     "output_type": "display_data"
    }
   ],
   "source": [
    "\n",
    "bcm = BinaryClassificationMetrics(predictions,scoreCol='probability', labelCol='label')\n",
    "\n",
    "# We still can get the same metrics as the evaluator...\n",
    "print(\"Area under ROC Curve: {:.4f}\".format(bcm.areaUnderROC))\n",
    "print(\"Area under PR Curve: {:.4f}\".format(bcm.areaUnderPR))\n",
    "\n",
    "# But now we can PLOT both ROC and PR curves!\n",
    "fig, axs = plt.subplots(1, 2, figsize=(12, 4))\n",
    "bcm.plot_roc_curve(ax=axs[0])\n",
    "bcm.plot_pr_curve(ax=axs[1])"
   ]
  },
  {
   "cell_type": "code",
   "execution_count": 23,
   "id": "c638ffdf",
   "metadata": {},
   "outputs": [
    {
     "name": "stdout",
     "output_type": "stream",
     "text": [
      "Precision: 0.637\n",
      "Recall: 0.480\n",
      "Accuracy: 0.910\n",
      "F1 Score: 0.548\n"
     ]
    }
   ],
   "source": [
    "from sklearn.metrics import precision_score, recall_score, f1_score, accuracy_score\n",
    "\t\n",
    "print('Precision: %.3f' % precision_score(y_true, y_pred))\n",
    "print('Recall: %.3f' % recall_score(y_true, y_pred))\n",
    "print('Accuracy: %.3f' % accuracy_score(y_true, y_pred))\n",
    "print('F1 Score: %.3f' % f1_score(y_true, y_pred))"
   ]
  },
  {
   "cell_type": "code",
   "execution_count": 184,
   "id": "eda3e58e",
   "metadata": {},
   "outputs": [
    {
     "name": "stdout",
     "output_type": "stream",
     "text": [
      "Collecting spark_ml_utilsNote: you may need to restart the kernel to use updated packages.\n"
     ]
    },
    {
     "name": "stderr",
     "output_type": "stream",
     "text": [
      "\n",
      "[notice] A new release of pip available: 22.2.2 -> 22.3.1\n",
      "[notice] To update, run: python.exe -m pip install --upgrade pip\n"
     ]
    },
    {
     "name": "stdout",
     "output_type": "stream",
     "text": [
      "\n",
      "  Downloading spark_ml_utils-0.0.3-py3-none-any.whl (6.7 kB)\n",
      "Installing collected packages: spark_ml_utils\n",
      "Successfully installed spark_ml_utils-0.0.3\n"
     ]
    }
   ],
   "source": [
    "pip install spark_ml_utils"
   ]
  },
  {
   "cell_type": "code",
   "execution_count": 24,
   "id": "729f88a3",
   "metadata": {},
   "outputs": [
    {
     "data": {
      "text/html": [
       "<div>\n",
       "<style scoped>\n",
       "    .dataframe tbody tr th:only-of-type {\n",
       "        vertical-align: middle;\n",
       "    }\n",
       "\n",
       "    .dataframe tbody tr th {\n",
       "        vertical-align: top;\n",
       "    }\n",
       "\n",
       "    .dataframe thead th {\n",
       "        text-align: right;\n",
       "    }\n",
       "</style>\n",
       "<table border=\"1\" class=\"dataframe\">\n",
       "  <thead>\n",
       "    <tr style=\"text-align: right;\">\n",
       "      <th></th>\n",
       "      <th>feature_index</th>\n",
       "      <th>feature_name</th>\n",
       "      <th>N</th>\n",
       "      <th>mean</th>\n",
       "      <th>std</th>\n",
       "    </tr>\n",
       "  </thead>\n",
       "  <tbody>\n",
       "    <tr>\n",
       "      <th>0</th>\n",
       "      <td>0</td>\n",
       "      <td>pc1</td>\n",
       "      <td>8238</td>\n",
       "      <td>-0.702416</td>\n",
       "      <td>1.686804</td>\n",
       "    </tr>\n",
       "    <tr>\n",
       "      <th>1</th>\n",
       "      <td>1</td>\n",
       "      <td>pc2</td>\n",
       "      <td>8238</td>\n",
       "      <td>0.027892</td>\n",
       "      <td>0.915563</td>\n",
       "    </tr>\n",
       "    <tr>\n",
       "      <th>2</th>\n",
       "      <td>2</td>\n",
       "      <td>pc3</td>\n",
       "      <td>8238</td>\n",
       "      <td>-0.165828</td>\n",
       "      <td>0.927903</td>\n",
       "    </tr>\n",
       "    <tr>\n",
       "      <th>3</th>\n",
       "      <td>3</td>\n",
       "      <td>pc4</td>\n",
       "      <td>8238</td>\n",
       "      <td>0.333529</td>\n",
       "      <td>0.963321</td>\n",
       "    </tr>\n",
       "    <tr>\n",
       "      <th>4</th>\n",
       "      <td>4</td>\n",
       "      <td>pc5</td>\n",
       "      <td>8238</td>\n",
       "      <td>-0.106167</td>\n",
       "      <td>0.959294</td>\n",
       "    </tr>\n",
       "    <tr>\n",
       "      <th>...</th>\n",
       "      <td>...</td>\n",
       "      <td>...</td>\n",
       "      <td>...</td>\n",
       "      <td>...</td>\n",
       "      <td>...</td>\n",
       "    </tr>\n",
       "    <tr>\n",
       "      <th>58</th>\n",
       "      <td>58</td>\n",
       "      <td>day_of_week_tue</td>\n",
       "      <td>8238</td>\n",
       "      <td>0.200291</td>\n",
       "      <td>0.400243</td>\n",
       "    </tr>\n",
       "    <tr>\n",
       "      <th>59</th>\n",
       "      <td>59</td>\n",
       "      <td>day_of_week_wed</td>\n",
       "      <td>8238</td>\n",
       "      <td>0.200291</td>\n",
       "      <td>0.400243</td>\n",
       "    </tr>\n",
       "    <tr>\n",
       "      <th>60</th>\n",
       "      <td>60</td>\n",
       "      <td>poutcome_failure</td>\n",
       "      <td>8238</td>\n",
       "      <td>0.103302</td>\n",
       "      <td>0.304371</td>\n",
       "    </tr>\n",
       "    <tr>\n",
       "      <th>61</th>\n",
       "      <td>61</td>\n",
       "      <td>poutcome_nonexistent</td>\n",
       "      <td>8238</td>\n",
       "      <td>0.863316</td>\n",
       "      <td>0.343534</td>\n",
       "    </tr>\n",
       "    <tr>\n",
       "      <th>62</th>\n",
       "      <td>62</td>\n",
       "      <td>poutcome_success</td>\n",
       "      <td>8238</td>\n",
       "      <td>0.033382</td>\n",
       "      <td>0.179643</td>\n",
       "    </tr>\n",
       "  </tbody>\n",
       "</table>\n",
       "<p>63 rows × 5 columns</p>\n",
       "</div>"
      ],
      "text/plain": [
       "    feature_index          feature_name     N      mean       std\n",
       "0               0                   pc1  8238 -0.702416  1.686804\n",
       "1               1                   pc2  8238  0.027892  0.915563\n",
       "2               2                   pc3  8238 -0.165828  0.927903\n",
       "3               3                   pc4  8238  0.333529  0.963321\n",
       "4               4                   pc5  8238 -0.106167  0.959294\n",
       "..            ...                   ...   ...       ...       ...\n",
       "58             58       day_of_week_tue  8238  0.200291  0.400243\n",
       "59             59       day_of_week_wed  8238  0.200291  0.400243\n",
       "60             60      poutcome_failure  8238  0.103302  0.304371\n",
       "61             61  poutcome_nonexistent  8238  0.863316  0.343534\n",
       "62             62      poutcome_success  8238  0.033382  0.179643\n",
       "\n",
       "[63 rows x 5 columns]"
      ]
     },
     "execution_count": 24,
     "metadata": {},
     "output_type": "execute_result"
    }
   ],
   "source": [
    "import spark_ml_utils.LogisticRegressionModel_util as lu\n",
    "#lrModel=lr.fit(train_df)\n",
    "#training_pred=lrModel.transform(train_df)\n",
    "lu.extract_feature_name(predictions,'vectorized_features',stat=True)"
   ]
  },
  {
   "cell_type": "code",
   "execution_count": 26,
   "id": "257f86e0",
   "metadata": {},
   "outputs": [],
   "source": [
    "feat_coeff=lu.feature_importance(lrm_model=lrModel\n",
    "                      , trainDF=train_df, trainFeatures='vectorized_features'\n",
    "                      , nonzero_only=True )"
   ]
  },
  {
   "cell_type": "code",
   "execution_count": 27,
   "id": "2258825f",
   "metadata": {},
   "outputs": [],
   "source": [
    "feat_coeff.to_csv('feat_coeff.csv')"
   ]
  },
  {
   "cell_type": "code",
   "execution_count": 189,
   "id": "c7a536d6",
   "metadata": {},
   "outputs": [
    {
     "data": {
      "text/plain": [
       "[('pc1', 'double'),\n",
       " ('pc2', 'double'),\n",
       " ('pc3', 'double'),\n",
       " ('pc4', 'double'),\n",
       " ('pc5', 'double'),\n",
       " ('pc6', 'double'),\n",
       " ('pc7', 'double'),\n",
       " ('pc8', 'double'),\n",
       " ('job_admin', 'int'),\n",
       " ('job_blue-collar', 'int'),\n",
       " ('job_entrepreneur', 'int'),\n",
       " ('job_housemaid', 'int'),\n",
       " ('job_management', 'int'),\n",
       " ('job_retired', 'int'),\n",
       " ('job_self-employed', 'int'),\n",
       " ('job_services', 'int'),\n",
       " ('job_student', 'int'),\n",
       " ('job_technician', 'int'),\n",
       " ('job_unemployed', 'int'),\n",
       " ('job_unknown', 'int'),\n",
       " ('marital_divorced', 'int'),\n",
       " ('marital_married', 'int'),\n",
       " ('marital_single', 'int'),\n",
       " ('marital_unknown', 'int'),\n",
       " ('education_basic_4y', 'int'),\n",
       " ('education_basic_6y', 'int'),\n",
       " ('education_basic_9y', 'int'),\n",
       " ('education_high_school', 'int'),\n",
       " ('education_illiterate', 'int'),\n",
       " ('education_professional_course', 'int'),\n",
       " ('education_university_degree', 'int'),\n",
       " ('education_unknown', 'int'),\n",
       " ('default_no', 'int'),\n",
       " ('default_unknown', 'int'),\n",
       " ('default_yes', 'int'),\n",
       " ('housing_no', 'int'),\n",
       " ('housing_unknown', 'int'),\n",
       " ('housing_yes', 'int'),\n",
       " ('loan_no', 'int'),\n",
       " ('loan_unknown', 'int'),\n",
       " ('loan_yes', 'int'),\n",
       " ('contact_cellular', 'int'),\n",
       " ('contact_telephone', 'int'),\n",
       " ('month_apr', 'int'),\n",
       " ('month_aug', 'int'),\n",
       " ('month_dec', 'int'),\n",
       " ('month_jul', 'int'),\n",
       " ('month_jun', 'int'),\n",
       " ('month_mar', 'int'),\n",
       " ('month_may', 'int'),\n",
       " ('month_nov', 'int'),\n",
       " ('month_oct', 'int'),\n",
       " ('month_sep', 'int'),\n",
       " ('day_of_week_fri', 'int'),\n",
       " ('day_of_week_mon', 'int'),\n",
       " ('day_of_week_thu', 'int'),\n",
       " ('day_of_week_tue', 'int'),\n",
       " ('day_of_week_wed', 'int'),\n",
       " ('poutcome_failure', 'int'),\n",
       " ('poutcome_nonexistent', 'int'),\n",
       " ('poutcome_success', 'int'),\n",
       " ('label', 'int'),\n",
       " ('vectorized_features', 'vector'),\n",
       " ('rawPrediction', 'vector'),\n",
       " ('probability', 'vector'),\n",
       " ('prediction', 'double')]"
      ]
     },
     "execution_count": 189,
     "metadata": {},
     "output_type": "execute_result"
    }
   ],
   "source": [
    "predictions.dtypes"
   ]
  },
  {
   "cell_type": "code",
   "execution_count": 186,
   "id": "20a80263",
   "metadata": {},
   "outputs": [
    {
     "data": {
      "text/html": [
       "<div>\n",
       "<style scoped>\n",
       "    .dataframe tbody tr th:only-of-type {\n",
       "        vertical-align: middle;\n",
       "    }\n",
       "\n",
       "    .dataframe tbody tr th {\n",
       "        vertical-align: top;\n",
       "    }\n",
       "\n",
       "    .dataframe thead th {\n",
       "        text-align: right;\n",
       "    }\n",
       "</style>\n",
       "<table border=\"1\" class=\"dataframe\">\n",
       "  <thead>\n",
       "    <tr style=\"text-align: right;\">\n",
       "      <th></th>\n",
       "      <th>feature_index</th>\n",
       "      <th>feature_name</th>\n",
       "      <th>coef</th>\n",
       "      <th>mean</th>\n",
       "      <th>std</th>\n",
       "      <th>std_coef</th>\n",
       "      <th>feature_importance</th>\n",
       "    </tr>\n",
       "  </thead>\n",
       "  <tbody>\n",
       "    <tr>\n",
       "      <th>0</th>\n",
       "      <td>3</td>\n",
       "      <td>pc4</td>\n",
       "      <td>-1.141797</td>\n",
       "      <td>-2.000770e-12</td>\n",
       "      <td>1.018560</td>\n",
       "      <td>-1.162989</td>\n",
       "      <td>1.162989</td>\n",
       "    </tr>\n",
       "    <tr>\n",
       "      <th>1</th>\n",
       "      <td>0</td>\n",
       "      <td>pc1</td>\n",
       "      <td>0.390557</td>\n",
       "      <td>-3.933060e-13</td>\n",
       "      <td>1.954194</td>\n",
       "      <td>0.763224</td>\n",
       "      <td>0.763224</td>\n",
       "    </tr>\n",
       "    <tr>\n",
       "      <th>2</th>\n",
       "      <td>5</td>\n",
       "      <td>pc6</td>\n",
       "      <td>0.762829</td>\n",
       "      <td>2.941357e-12</td>\n",
       "      <td>0.923782</td>\n",
       "      <td>0.704688</td>\n",
       "      <td>0.704688</td>\n",
       "    </tr>\n",
       "    <tr>\n",
       "      <th>3</th>\n",
       "      <td>2</td>\n",
       "      <td>pc3</td>\n",
       "      <td>0.620732</td>\n",
       "      <td>-1.248337e-12</td>\n",
       "      <td>1.080583</td>\n",
       "      <td>0.670753</td>\n",
       "      <td>0.670753</td>\n",
       "    </tr>\n",
       "    <tr>\n",
       "      <th>4</th>\n",
       "      <td>54</td>\n",
       "      <td>day_of_week_mon</td>\n",
       "      <td>-1.765591</td>\n",
       "      <td>1.304444e-01</td>\n",
       "      <td>0.336795</td>\n",
       "      <td>-0.594642</td>\n",
       "      <td>0.594642</td>\n",
       "    </tr>\n",
       "    <tr>\n",
       "      <th>...</th>\n",
       "      <td>...</td>\n",
       "      <td>...</td>\n",
       "      <td>...</td>\n",
       "      <td>...</td>\n",
       "      <td>...</td>\n",
       "      <td>...</td>\n",
       "      <td>...</td>\n",
       "    </tr>\n",
       "    <tr>\n",
       "      <th>56</th>\n",
       "      <td>23</td>\n",
       "      <td>marital_unknown</td>\n",
       "      <td>-1.222055</td>\n",
       "      <td>1.179951e-03</td>\n",
       "      <td>0.034330</td>\n",
       "      <td>-0.041954</td>\n",
       "      <td>0.041954</td>\n",
       "    </tr>\n",
       "    <tr>\n",
       "      <th>57</th>\n",
       "      <td>51</td>\n",
       "      <td>month_oct</td>\n",
       "      <td>-0.293076</td>\n",
       "      <td>2.069190e-02</td>\n",
       "      <td>0.142352</td>\n",
       "      <td>-0.041720</td>\n",
       "      <td>0.041720</td>\n",
       "    </tr>\n",
       "    <tr>\n",
       "      <th>58</th>\n",
       "      <td>45</td>\n",
       "      <td>month_dec</td>\n",
       "      <td>-0.634682</td>\n",
       "      <td>4.155480e-03</td>\n",
       "      <td>0.064329</td>\n",
       "      <td>-0.040829</td>\n",
       "      <td>0.040829</td>\n",
       "    </tr>\n",
       "    <tr>\n",
       "      <th>59</th>\n",
       "      <td>28</td>\n",
       "      <td>education_illiterate</td>\n",
       "      <td>-1.514603</td>\n",
       "      <td>2.907126e-04</td>\n",
       "      <td>0.017048</td>\n",
       "      <td>-0.025821</td>\n",
       "      <td>0.025821</td>\n",
       "    </tr>\n",
       "    <tr>\n",
       "      <th>60</th>\n",
       "      <td>34</td>\n",
       "      <td>default_yes</td>\n",
       "      <td>-2.387324</td>\n",
       "      <td>3.420148e-05</td>\n",
       "      <td>0.005848</td>\n",
       "      <td>-0.013961</td>\n",
       "      <td>0.013961</td>\n",
       "    </tr>\n",
       "  </tbody>\n",
       "</table>\n",
       "<p>61 rows × 7 columns</p>\n",
       "</div>"
      ],
      "text/plain": [
       "    feature_index          feature_name      coef          mean       std  \\\n",
       "0               3                   pc4 -1.141797 -2.000770e-12  1.018560   \n",
       "1               0                   pc1  0.390557 -3.933060e-13  1.954194   \n",
       "2               5                   pc6  0.762829  2.941357e-12  0.923782   \n",
       "3               2                   pc3  0.620732 -1.248337e-12  1.080583   \n",
       "4              54       day_of_week_mon -1.765591  1.304444e-01  0.336795   \n",
       "..            ...                   ...       ...           ...       ...   \n",
       "56             23       marital_unknown -1.222055  1.179951e-03  0.034330   \n",
       "57             51             month_oct -0.293076  2.069190e-02  0.142352   \n",
       "58             45             month_dec -0.634682  4.155480e-03  0.064329   \n",
       "59             28  education_illiterate -1.514603  2.907126e-04  0.017048   \n",
       "60             34           default_yes -2.387324  3.420148e-05  0.005848   \n",
       "\n",
       "    std_coef  feature_importance  \n",
       "0  -1.162989            1.162989  \n",
       "1   0.763224            0.763224  \n",
       "2   0.704688            0.704688  \n",
       "3   0.670753            0.670753  \n",
       "4  -0.594642            0.594642  \n",
       "..       ...                 ...  \n",
       "56 -0.041954            0.041954  \n",
       "57 -0.041720            0.041720  \n",
       "58 -0.040829            0.040829  \n",
       "59 -0.025821            0.025821  \n",
       "60 -0.013961            0.013961  \n",
       "\n",
       "[61 rows x 7 columns]"
      ]
     },
     "execution_count": 186,
     "metadata": {},
     "output_type": "execute_result"
    }
   ],
   "source": [
    "\n",
    "lu.feature_importance(lrm_model=lrModel\n",
    "                      , trainDF=train_df, trainFeatures='vectorized_features'\n",
    "                      , nonzero_only=True )"
   ]
  },
  {
   "cell_type": "code",
   "execution_count": 179,
   "id": "c4de2888",
   "metadata": {},
   "outputs": [],
   "source": [
    "cv_summary=cvModel.bestModel.summary\n",
    "fMeasure = cv_summary.fMeasureByThreshold\n",
    "maxFMeasure = fMeasure.groupBy().max('F-Measure').select('max(F-Measure)').head()\n",
    "bestThreshold = fMeasure.where(fMeasure['F-Measure'] == maxFMeasure['max(F-Measure)']) \\\n",
    "    .select('threshold').head()['threshold']"
   ]
  },
  {
   "cell_type": "code",
   "execution_count": 180,
   "id": "3fd87620",
   "metadata": {},
   "outputs": [
    {
     "data": {
      "text/plain": [
       "0.37658835325570317"
      ]
     },
     "execution_count": 180,
     "metadata": {},
     "output_type": "execute_result"
    }
   ],
   "source": [
    "bestThreshold"
   ]
  }
 ],
 "metadata": {
  "kernelspec": {
   "display_name": "Python 3.10.8 64-bit",
   "language": "python",
   "name": "python3"
  },
  "language_info": {
   "codemirror_mode": {
    "name": "ipython",
    "version": 3
   },
   "file_extension": ".py",
   "mimetype": "text/x-python",
   "name": "python",
   "nbconvert_exporter": "python",
   "pygments_lexer": "ipython3",
   "version": "3.10.8"
  },
  "vscode": {
   "interpreter": {
    "hash": "d82ec91dfcce60fecb20bdc3cae00c6378316a7bc17a3d4eb8d1d052897dbe04"
   }
  }
 },
 "nbformat": 4,
 "nbformat_minor": 5
}
